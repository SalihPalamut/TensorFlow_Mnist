{
 "cells": [
  {
   "cell_type": "code",
   "execution_count": 1,
   "metadata": {},
   "outputs": [
    {
     "data": {
      "text/plain": [
       "'2.1.0'"
      ]
     },
     "execution_count": 1,
     "metadata": {},
     "output_type": "execute_result"
    }
   ],
   "source": [
    "import matplotlib.pyplot as plot\n",
    "\n",
    "import tensorflow as tf\n",
    "from tensorflow import keras\n",
    "from tensorflow.keras import optimizers,losses,datasets\n",
    "from tensorflow.keras.models import Sequential\n",
    "from tensorflow.keras.layers import Dense,Dropout\n",
    "\n",
    "tf.__version__"
   ]
  },
  {
   "cell_type": "code",
   "execution_count": 2,
   "metadata": {},
   "outputs": [
    {
     "name": "stdout",
     "output_type": "stream",
     "text": [
      "Label 5\n"
     ]
    },
    {
     "data": {
      "image/png": "[encoded data removed]",
      "text/plain": [
       "<Figure size 432x288 with 1 Axes>"
      ]
     },
     "metadata": {
      "needs_background": "light"
     },
     "output_type": "display_data"
    }
   ],
   "source": [
    "(train_images,train_labels),(test_images,test_labels)=datasets.mnist.load_data()\n",
    "\n",
    "plot.imshow(train_images[0],cmap=\"Greys\")\n",
    "print(\"Label\",train_labels[0])"
   ]
  },
  {
   "cell_type": "code",
   "execution_count": 3,
   "metadata": {},
   "outputs": [],
   "source": [
    "shape_size = 28 * 28 \n",
    "train_images = train_images.reshape(-1, shape_size) / 255.0 \n",
    "test_images = test_images.reshape(-1, shape_size) / 255.0 \n"
   ]
  },
  {
   "cell_type": "code",
   "execution_count": 4,
   "metadata": {},
   "outputs": [
    {
     "name": "stdout",
     "output_type": "stream",
     "text": [
      "Model: \"sequential\"\n",
      "_________________________________________________________________\n",
      "Layer (type)                 Output Shape              Param #   \n",
      "=================================================================\n",
      "Inputs (Dense)               (None, 784)               615440    \n",
      "_________________________________________________________________\n",
      "Hidden1 (Dense)              (None, 392)               307720    \n",
      "_________________________________________________________________\n",
      "Dropou1 (Dropout)            (None, 392)               0         \n",
      "_________________________________________________________________\n",
      "Hidden2 (Dense)              (None, 196)               77028     \n",
      "_________________________________________________________________\n",
      "Dropout2 (Dropout)           (None, 196)               0         \n",
      "_________________________________________________________________\n",
      "Output (Dense)               (None, 10)                1970      \n",
      "=================================================================\n",
      "Total params: 1,002,158\n",
      "Trainable params: 1,002,158\n",
      "Non-trainable params: 0\n",
      "_________________________________________________________________\n",
      "10000/10000 [==============================] - 1s 95us/sample - loss: 0.1337 - accuracy: 0.9816\n",
      "Restored model, accuracy: 98.16%\n"
     ]
    }
   ],
   "source": [
    "model = keras.models.load_model('modelim.h5')\n",
    "\n",
    "\n",
    "\n",
    "model.summary()\n",
    "loss, acc = model.evaluate(test_images, test_labels)\n",
    "print(\"Restored model, accuracy: {:5.2f}%\".format(100*acc))"
   ]
  },
  {
   "cell_type": "code",
   "execution_count": 5,
   "metadata": {},
   "outputs": [
    {
     "name": "stdout",
     "output_type": "stream",
     "text": [
      "Label : 8  Predict : 8\n"
     ]
    },
    {
     "data": {
      "image/png": "[encoded data removed]",
      "text/plain": [
       "<Figure size 432x288 with 1 Axes>"
      ]
     },
     "metadata": {
      "needs_background": "light"
     },
     "output_type": "display_data"
    }
   ],
   "source": [
    "image_index=1259\n",
    "pred = model.predict(test_images[image_index].reshape(-1,shape_size))\n",
    "\n",
    "plot.imshow(test_images[image_index].reshape(28, 28),cmap='Greys')\n",
    "print(\"Label :\",test_labels[image_index],\" Predict :\",pred.argmax())"
   ]
  }
 ],
 "metadata": {
  "kernelspec": {
   "display_name": "Python 3",
   "language": "python",
   "name": "python3"
  },
  "language_info": {
   "codemirror_mode": {
    "name": "ipython",
    "version": 3
   },
   "file_extension": ".py",
   "mimetype": "text/x-python",
   "name": "python",
   "nbconvert_exporter": "python",
   "pygments_lexer": "ipython3",
   "version": "3.7.4"
  }
 },
 "nbformat": 4,
 "nbformat_minor": 2
}
