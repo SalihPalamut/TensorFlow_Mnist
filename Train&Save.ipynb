{
 "cells": [
  {
   "cell_type": "code",
   "execution_count": 1,
   "metadata": {},
   "outputs": [
    {
     "data": {
      "text/plain": [
       "'2.1.0'"
      ]
     },
     "execution_count": 1,
     "metadata": {},
     "output_type": "execute_result"
    }
   ],
   "source": [
    "from __future__ import absolute_import, division, print_function\n",
    "\n",
    "import os\n",
    "\n",
    "import matplotlib.pyplot as plt\n",
    "\n",
    "import tensorflow as tf\n",
    "from tensorflow import keras\n",
    "from tensorflow.keras import optimizers,losses,datasets\n",
    "from tensorflow.keras.layers import Dropout,Dense\n",
    "tf.__version__"
   ]
  },
  {
   "cell_type": "code",
   "execution_count": 2,
   "metadata": {},
   "outputs": [],
   "source": [
    "(train_images, train_labels), (test_images, test_labels) = datasets.mnist.load_data()\n",
    "\n",
    "shape_size = 28 * 28\n",
    "\n",
    "train_images = train_images.reshape(-1, shape_size) / 255.0\n",
    "test_images = test_images.reshape(-1, shape_size) / 255.0"
   ]
  },
  {
   "cell_type": "code",
   "execution_count": 3,
   "metadata": {},
   "outputs": [
    {
     "name": "stdout",
     "output_type": "stream",
     "text": [
      "5\n"
     ]
    },
    {
     "data": {
      "image/png": "[encoded data removed]",
      "text/plain": [
       "<Figure size 432x288 with 1 Axes>"
      ]
     },
     "metadata": {
      "needs_background": "light"
     },
     "output_type": "display_data"
    }
   ],
   "source": [
    "#show an example data\n",
    "plt.imshow(train_images[0].reshape(28, 28),cmap='Greys')\n",
    "print(train_labels[0])"
   ]
  },
  {
   "cell_type": "code",
   "execution_count": 4,
   "metadata": {},
   "outputs": [
    {
     "name": "stdout",
     "output_type": "stream",
     "text": [
      "Model: \"sequential\"\n",
      "_________________________________________________________________\n",
      "Layer (type)                 Output Shape              Param #   \n",
      "=================================================================\n",
      "Inputs (Dense)               (None, 784)               615440    \n",
      "_________________________________________________________________\n",
      "Hidden1 (Dense)              (None, 392)               307720    \n",
      "_________________________________________________________________\n",
      "Dropou1 (Dropout)            (None, 392)               0         \n",
      "_________________________________________________________________\n",
      "Hidden2 (Dense)              (None, 196)               77028     \n",
      "_________________________________________________________________\n",
      "Dropout2 (Dropout)           (None, 196)               0         \n",
      "_________________________________________________________________\n",
      "Output (Dense)               (None, 10)                1970      \n",
      "=================================================================\n",
      "Total params: 1,002,158\n",
      "Trainable params: 1,002,158\n",
      "Non-trainable params: 0\n",
      "_________________________________________________________________\n"
     ]
    }
   ],
   "source": [
    "model = keras.models.Sequential([\n",
    "    Dense(shape_size, activation=tf.nn.relu, input_shape=(shape_size,),name=\"Inputs\"),\n",
    "    Dense(shape_size/2, activation=tf.nn.relu, input_shape=(shape_size,),name=\"Hidden1\"),\n",
    "    Dropout(0.2,name=\"Dropou1\"),\n",
    "    Dense(shape_size/4, activation=tf.nn.relu, input_shape=(shape_size/2,),name=\"Hidden2\"),\n",
    "    Dropout(0.2,name=\"Dropout2\"),\n",
    "    Dense(10, activation=tf.nn.softmax,name=\"Output\")\n",
    "  ])\n",
    "\n",
    "model.compile(optimizer=optimizers.Adam(),loss=losses.sparse_categorical_crossentropy,metrics=['accuracy'])\n",
    "model.summary()"
   ]
  },
  {
   "cell_type": "code",
   "execution_count": 5,
   "metadata": {
    "scrolled": true
   },
   "outputs": [
    {
     "name": "stdout",
     "output_type": "stream",
     "text": [
      "Train on 60000 samples, validate on 10000 samples\n",
      "Epoch 1/20\n",
      "60000/60000 [==============================] - 6s 105us/sample - loss: 0.2171 - accuracy: 0.9354 - val_loss: 0.1092 - val_accuracy: 0.9664\n",
      "Epoch 2/20\n",
      "60000/60000 [==============================] - 6s 93us/sample - loss: 0.0974 - accuracy: 0.9715 - val_loss: 0.0989 - val_accuracy: 0.9671\n",
      "Epoch 3/20\n",
      "60000/60000 [==============================] - 5s 90us/sample - loss: 0.0700 - accuracy: 0.9790 - val_loss: 0.0869 - val_accuracy: 0.9760\n",
      "Epoch 4/20\n",
      "60000/60000 [==============================] - 5s 90us/sample - loss: 0.0576 - accuracy: 0.9832 - val_loss: 0.0797 - val_accuracy: 0.9772\n",
      "Epoch 5/20\n",
      "60000/60000 [==============================] - 5s 89us/sample - loss: 0.0470 - accuracy: 0.9861 - val_loss: 0.0985 - val_accuracy: 0.9767\n",
      "Epoch 6/20\n",
      "60000/60000 [==============================] - 5s 91us/sample - loss: 0.0409 - accuracy: 0.9877 - val_loss: 0.0922 - val_accuracy: 0.9792\n",
      "Epoch 7/20\n",
      "60000/60000 [==============================] - 6s 99us/sample - loss: 0.0346 - accuracy: 0.9897 - val_loss: 0.0959 - val_accuracy: 0.9773\n",
      "Epoch 8/20\n",
      "60000/60000 [==============================] - 6s 94us/sample - loss: 0.0317 - accuracy: 0.9907 - val_loss: 0.0910 - val_accuracy: 0.9805\n",
      "Epoch 9/20\n",
      "60000/60000 [==============================] - 6s 92us/sample - loss: 0.0333 - accuracy: 0.9906 - val_loss: 0.1099 - val_accuracy: 0.9779\n",
      "Epoch 10/20\n",
      "60000/60000 [==============================] - 6s 95us/sample - loss: 0.0263 - accuracy: 0.9925 - val_loss: 0.1255 - val_accuracy: 0.9779\n",
      "Epoch 11/20\n",
      "60000/60000 [==============================] - 6s 92us/sample - loss: 0.0278 - accuracy: 0.9926 - val_loss: 0.1183 - val_accuracy: 0.9796\n",
      "Epoch 12/20\n",
      "60000/60000 [==============================] - 6s 93us/sample - loss: 0.0236 - accuracy: 0.9937 - val_loss: 0.1079 - val_accuracy: 0.9820\n",
      "Epoch 13/20\n",
      "60000/60000 [==============================] - 5s 90us/sample - loss: 0.0255 - accuracy: 0.9933 - val_loss: 0.1157 - val_accuracy: 0.9811\n",
      "Epoch 14/20\n",
      "60000/60000 [==============================] - 6s 92us/sample - loss: 0.0237 - accuracy: 0.9936 - val_loss: 0.1146 - val_accuracy: 0.9815\n",
      "Epoch 15/20\n",
      "60000/60000 [==============================] - 5s 91us/sample - loss: 0.0219 - accuracy: 0.9943 - val_loss: 0.1195 - val_accuracy: 0.9816\n",
      "Epoch 16/20\n",
      "60000/60000 [==============================] - 6s 92us/sample - loss: 0.0199 - accuracy: 0.9946 - val_loss: 0.1075 - val_accuracy: 0.9814\n",
      "Epoch 17/20\n",
      "60000/60000 [==============================] - 5s 91us/sample - loss: 0.0207 - accuracy: 0.9947 - val_loss: 0.1068 - val_accuracy: 0.9818\n",
      "Epoch 18/20\n",
      "60000/60000 [==============================] - 5s 90us/sample - loss: 0.0195 - accuracy: 0.9951 - val_loss: 0.0997 - val_accuracy: 0.9824\n",
      "Epoch 19/20\n",
      "60000/60000 [==============================] - 5s 90us/sample - loss: 0.0175 - accuracy: 0.9956 - val_loss: 0.1579 - val_accuracy: 0.9807\n",
      "Epoch 20/20\n",
      "60000/60000 [==============================] - 6s 93us/sample - loss: 0.0183 - accuracy: 0.9955 - val_loss: 0.1337 - val_accuracy: 0.9816\n",
      "10000/10000 [==============================] - 1s 64us/sample - loss: 0.1337 - accuracy: 0.9816\n",
      "Trained model, accuracy: 98.16%\n"
     ]
    }
   ],
   "source": [
    "model.fit(train_images, train_labels,  epochs = 20,validation_data = (test_images,test_labels),verbose=1)\n",
    "loss, acc = model.evaluate(test_images, test_labels)\n",
    "print(\"Trained model, accuracy: {:5.2f}%\".format(100*acc))"
   ]
  },
  {
   "cell_type": "code",
   "execution_count": 6,
   "metadata": {},
   "outputs": [],
   "source": [
    "model.save('modelim.h5')"
   ]
  },
  {
   "cell_type": "code",
   "execution_count": null,
   "metadata": {},
   "outputs": [],
   "source": []
  }
 ],
 "metadata": {
  "kernelspec": {
   "display_name": "Python 3",
   "language": "python",
   "name": "python3"
  },
  "language_info": {
   "codemirror_mode": {
    "name": "ipython",
    "version": 3
   },
   "file_extension": ".py",
   "mimetype": "text/x-python",
   "name": "python",
   "nbconvert_exporter": "python",
   "pygments_lexer": "ipython3",
   "version": "3.7.4"
  }
 },
 "nbformat": 4,
 "nbformat_minor": 2
}
