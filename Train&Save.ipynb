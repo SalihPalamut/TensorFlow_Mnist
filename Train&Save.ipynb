{
 "cells": [
  {
   "cell_type": "code",
   "execution_count": 1,
   "metadata": {},
   "outputs": [
    {
     "data": {
      "text/plain": [
       "'2.1.0'"
      ]
     },
     "execution_count": 1,
     "metadata": {},
     "output_type": "execute_result"
    }
   ],
   "source": [
    "import matplotlib.pyplot as plot\n",
    "\n",
    "import tensorflow as tf\n",
    "from tensorflow import keras\n",
    "from tensorflow.keras import optimizers,losses,datasets\n",
    "from tensorflow.keras.models import Sequential\n",
    "from tensorflow.keras.layers import Dense,Dropout\n",
    "\n",
    "tf.__version__"
   ]
  },
  {
   "cell_type": "code",
   "execution_count": 4,
   "metadata": {},
   "outputs": [
    {
     "name": "stdout",
     "output_type": "stream",
     "text": [
      "Label 0\n"
     ]
    },
    {
     "data": {
      "image/png": "[encoded data removed]",
      "text/plain": [
       "<Figure size 432x288 with 1 Axes>"
      ]
     },
     "metadata": {
      "needs_background": "light"
     },
     "output_type": "display_data"
    }
   ],
   "source": [
    "(train_images,train_labels),(test_images,test_labels)=datasets.mnist.load_data()\n",
    "\n",
    "plot.imshow(train_images[1],cmap=\"Greys\")\n",
    "\n",
    "print(\"Label\",train_labels[1])"
   ]
  },
  {
   "cell_type": "code",
   "execution_count": 5,
   "metadata": {},
   "outputs": [],
   "source": [
    "shape_size=28*28\n",
    "\n",
    "train_images=train_images.reshape(-1,shape_size)/255.0\n",
    "test_images=test_images.reshape(-1,shape_size)/255.0"
   ]
  },
  {
   "cell_type": "code",
   "execution_count": 6,
   "metadata": {},
   "outputs": [
    {
     "name": "stdout",
     "output_type": "stream",
     "text": [
      "Model: \"sequential\"\n",
      "_________________________________________________________________\n",
      "Layer (type)                 Output Shape              Param #   \n",
      "=================================================================\n",
      "Inputs (Dense)               (None, 784)               615440    \n",
      "_________________________________________________________________\n",
      "Hidden1 (Dense)              (None, 392)               307720    \n",
      "_________________________________________________________________\n",
      "Dropou1 (Dropout)            (None, 392)               0         \n",
      "_________________________________________________________________\n",
      "Hidden2 (Dense)              (None, 196)               77028     \n",
      "_________________________________________________________________\n",
      "Dropout2 (Dropout)           (None, 196)               0         \n",
      "_________________________________________________________________\n",
      "Output (Dense)               (None, 10)                1970      \n",
      "=================================================================\n",
      "Total params: 1,002,158\n",
      "Trainable params: 1,002,158\n",
      "Non-trainable params: 0\n",
      "_________________________________________________________________\n"
     ]
    }
   ],
   "source": [
    "model = Sequential([\n",
    "    Dense(shape_size, activation=tf.nn.relu,input_shape=(shape_size,),\n",
    "          name=\"Inputs\"),\n",
    "    Dense(shape_size/2,activation=tf.nn.relu,input_shape=(shape_size,),\n",
    "          name=\"Hidden1\"),\n",
    "    Dropout(0.2,name=\"Dropou1\"),\n",
    "    Dense(shape_size/4, activation=tf.nn.relu, input_shape=(shape_size/2,),\n",
    "          name=\"Hidden2\"),\n",
    "    Dropout(0.2,name=\"Dropout2\"),\n",
    "    Dense(10, activation=tf.nn.softmax,name=\"Output\")\n",
    "])\n",
    "\n",
    "model.compile(optimizer=optimizers.Adam(),\n",
    "              loss=losses.sparse_categorical_crossentropy,metrics=['accuracy'])\n",
    "model.summary()"
   ]
  },
  {
   "cell_type": "code",
   "execution_count": 8,
   "metadata": {},
   "outputs": [
    {
     "name": "stdout",
     "output_type": "stream",
     "text": [
      "Train on 60000 samples, validate on 10000 samples\n",
      "Epoch 1/10\n",
      "60000/60000 [==============================] - 6s 105us/sample - loss: 0.0406 - accuracy: 0.9883 - val_loss: 0.0850 - val_accuracy: 0.9814\n",
      "Epoch 2/10\n",
      "60000/60000 [==============================] - 8s 125us/sample - loss: 0.0387 - accuracy: 0.9883 - val_loss: 0.0785 - val_accuracy: 0.9802\n",
      "Epoch 3/10\n",
      "60000/60000 [==============================] - 8s 133us/sample - loss: 0.0310 - accuracy: 0.9909 - val_loss: 0.1128 - val_accuracy: 0.9747\n",
      "Epoch 4/10\n",
      "60000/60000 [==============================] - 7s 120us/sample - loss: 0.0300 - accuracy: 0.9913 - val_loss: 0.0881 - val_accuracy: 0.9805\n",
      "Epoch 5/10\n",
      "60000/60000 [==============================] - 6s 108us/sample - loss: 0.0253 - accuracy: 0.9927 - val_loss: 0.0821 - val_accuracy: 0.9841\n",
      "Epoch 6/10\n",
      "60000/60000 [==============================] - 7s 110us/sample - loss: 0.0291 - accuracy: 0.9923 - val_loss: 0.0782 - val_accuracy: 0.9835\n",
      "Epoch 7/10\n",
      "60000/60000 [==============================] - 6s 105us/sample - loss: 0.0239 - accuracy: 0.9931 - val_loss: 0.0964 - val_accuracy: 0.9815\n",
      "Epoch 8/10\n",
      "60000/60000 [==============================] - 6s 107us/sample - loss: 0.0216 - accuracy: 0.9940 - val_loss: 0.1329 - val_accuracy: 0.9818\n",
      "Epoch 9/10\n",
      "60000/60000 [==============================] - 6s 107us/sample - loss: 0.0258 - accuracy: 0.9933 - val_loss: 0.1008 - val_accuracy: 0.9838\n",
      "Epoch 10/10\n",
      "60000/60000 [==============================] - 6s 107us/sample - loss: 0.0197 - accuracy: 0.9948 - val_loss: 0.1685 - val_accuracy: 0.9794\n",
      "10000/10000 [==============================] - 1s 65us/sample - loss: 0.1685 - accuracy: 0.9794\n",
      "Trained model, accuracy: 97.94\n"
     ]
    }
   ],
   "source": [
    "model.fit(train_images, train_labels, \n",
    "          epochs = 10,\n",
    "          validation_data = (test_images,test_labels))\n",
    "\n",
    "loss, acc = model.evaluate(test_images, test_labels)\n",
    "\n",
    "print(\"Trained model, accuracy: {:5.2f}\".format(100*acc))"
   ]
  },
  {
   "cell_type": "code",
   "execution_count": 9,
   "metadata": {},
   "outputs": [],
   "source": [
    "model.save('modelim.h5')"
   ]
  },
  {
   "cell_type": "code",
   "execution_count": null,
   "metadata": {},
   "outputs": [],
   "source": []
  }
 ],
 "metadata": {
  "kernelspec": {
   "display_name": "Python 3",
   "language": "python",
   "name": "python3"
  },
  "language_info": {
   "codemirror_mode": {
    "name": "ipython",
    "version": 3
   },
   "file_extension": ".py",
   "mimetype": "text/x-python",
   "name": "python",
   "nbconvert_exporter": "python",
   "pygments_lexer": "ipython3",
   "version": "3.7.4"
  }
 },
 "nbformat": 4,
 "nbformat_minor": 2
}
